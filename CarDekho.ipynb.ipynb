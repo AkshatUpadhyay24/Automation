{
 "cells": [
  {
   "cell_type": "code",
   "execution_count": 4,
   "id": "7f2e1da6-ad9c-48a9-beee-faae02d745b1",
   "metadata": {},
   "outputs": [
    {
     "name": "stdout",
     "output_type": "stream",
     "text": [
      "\n",
      "Note: you may need to restart the kernel to use updated packages.\n"
     ]
    }
   ],
   "source": [
    "conda install openpyxl\n"
   ]
  },
  {
   "cell_type": "code",
   "execution_count": 2,
   "id": "362bf17d-b0e0-4d10-b543-2e1780bf1159",
   "metadata": {},
   "outputs": [
    {
     "name": "stdout",
     "output_type": "stream",
     "text": [
      "Requirement already satisfied: openpyxl in c:\\programdata\\anaconda3\\envs\\samil\\lib\\site-packages (3.1.2)\n",
      "Requirement already satisfied: et-xmlfile in c:\\programdata\\anaconda3\\envs\\samil\\lib\\site-packages (from openpyxl) (1.1.0)\n",
      "Note: you may need to restart the kernel to use updated packages.\n"
     ]
    },
    {
     "name": "stderr",
     "output_type": "stream",
     "text": [
      "WARNING: Ignoring invalid distribution -atplotlib (c:\\programdata\\anaconda3\\envs\\samil\\lib\\site-packages)\n",
      "WARNING: Ignoring invalid distribution -rotobuf (c:\\programdata\\anaconda3\\envs\\samil\\lib\\site-packages)\n",
      "WARNING: Error parsing requirements for jupyter: [Errno 2] No such file or directory: 'c:\\\\programdata\\\\anaconda3\\\\envs\\\\samil\\\\lib\\\\site-packages\\\\jupyter-1.0.0.dist-info\\\\METADATA'\n",
      "WARNING: Ignoring invalid distribution -atplotlib (c:\\programdata\\anaconda3\\envs\\samil\\lib\\site-packages)\n",
      "WARNING: Ignoring invalid distribution -rotobuf (c:\\programdata\\anaconda3\\envs\\samil\\lib\\site-packages)\n"
     ]
    }
   ],
   "source": [
    "pip install openpyxl\n"
   ]
  },
  {
   "cell_type": "code",
   "execution_count": 9,
   "id": "87878ae7-1d40-4034-a092-9daddd4d340d",
   "metadata": {},
   "outputs": [
    {
     "name": "stderr",
     "output_type": "stream",
     "text": [
      "C:\\Users\\Administrator\\AppData\\Local\\Temp\\ipykernel_4696\\3940420614.py:28: DeprecationWarning: executable_path has been deprecated, please pass in a Service object\n",
      "  browser = webdriver.Chrome(ChromeDriverManager().install(), options=opts)\n"
     ]
    },
    {
     "name": "stdout",
     "output_type": "stream",
     "text": [
      "Done\n"
     ]
    }
   ],
   "source": [
    "import time\n",
    "import os\n",
    "from datetime import datetime\n",
    "from selenium import webdriver\n",
    "from selenium.webdriver.common.by import By\n",
    "from selenium.webdriver.chrome.options import Options\n",
    "from selenium.common.exceptions import NoSuchElementException\n",
    "from webdriver_manager.chrome import ChromeDriverManager\n",
    "import pandas as pd\n",
    "\n",
    "# Current time for folder naming\n",
    "current_time = datetime.now().strftime('%Y-%m-%d_%H-%M')\n",
    "folder_name = f\"Cardekho/Cardekho{current_time}\"\n",
    "folder_path = os.path.join(r\"D:\\Automation\\OutputW\\Cardekho\", folder_name)\n",
    "\n",
    "# Create the folder if it doesn't exist\n",
    "if not os.path.exists(folder_path):\n",
    "    os.makedirs(folder_path)\n",
    "\n",
    "# Set Chrome options\n",
    "opts = Options()\n",
    "prefs = {\n",
    "    \"download.default_directory\": folder_path\n",
    "}\n",
    "opts.add_experimental_option('prefs', prefs)\n",
    "\n",
    "# Automatically manage ChromeDriver\n",
    "browser = webdriver.Chrome(ChromeDriverManager().install(), options=opts)\n",
    "browser.maximize_window()\n",
    "\n",
    "try:\n",
    "    # 1. Open the website and fill in login credentials\n",
    "    browser.get(\"https://auctions.cardekho.com/#/\")\n",
    "    time.sleep(3)\n",
    "    browser.find_element(By.XPATH, '//header/div[1]/div[1]/form[1]/div[1]/input[1]').send_keys(\"MH202144416\")\n",
    "    browser.find_element(By.XPATH, \"//header/div[1]/div[1]/form[1]/div[2]/input[1]\").send_keys(\"Rahul@123\")\n",
    "    browser.find_element(By.XPATH, \"//header/div[1]/div[1]/form[1]/button[1]\").click()\n",
    "    time.sleep(4)\n",
    "    browser.find_element(By.XPATH, \"html/body/div[1]/div[1]/div[4]/div/ul/li[4]/a\").click()\n",
    "    time.sleep(4)\n",
    "    browser.get(\"https://auctions.cardekho.com/#/auctionListing/bank_live\")\n",
    "    time.sleep(2)\n",
    "\n",
    "    # 2. Scrape the data\n",
    "    auction_name = browser.find_elements(By.XPATH, \"/html/body/div[1]/div[3]/div/table[1]/tbody[2]/tr/td[1]\")\n",
    "    vehicles = browser.find_elements(By.XPATH, '//table[@class=\"live_auctions\"]//tbody[2]//td[6]')\n",
    "\n",
    "    l = []\n",
    "    m = []\n",
    "\n",
    "    for i in range(len(auction_name)):\n",
    "        l.append(auction_name[i].text)\n",
    "        vehicle_data = vehicles[i].text\n",
    "        vehicle_list = vehicle_data.split(\" \")\n",
    "        total_vehicle_no = sum([int(v.strip()) for v in vehicle_list])\n",
    "        m.append(total_vehicle_no)\n",
    "\n",
    "    df_final = pd.DataFrame(list(zip(l, m)), columns=['Client', 'Count'])\n",
    "\n",
    "    # 3. Save the data to an Excel file\n",
    "    file = f\"cardekho{current_time}\"\n",
    "    try:\n",
    "        df_final.to_excel(f\"{folder_path}/{file}.xlsx\")\n",
    "        print('Done')\n",
    "    except Exception as e:\n",
    "        print(f\"contact to vipin2: {e}\")\n",
    "\n",
    "except Exception as e:\n",
    "    print(f\"Contact to Vipin: {e}\")\n",
    "finally:\n",
    "    browser.quit()\n"
   ]
  },
  {
   "cell_type": "code",
   "execution_count": 12,
   "id": "ee19bfd6-3ea7-41b2-b9c6-19352e10bf9e",
   "metadata": {},
   "outputs": [
    {
     "data": {
      "text/html": [
       "<div>\n",
       "<style scoped>\n",
       "    .dataframe tbody tr th:only-of-type {\n",
       "        vertical-align: middle;\n",
       "    }\n",
       "\n",
       "    .dataframe tbody tr th {\n",
       "        vertical-align: top;\n",
       "    }\n",
       "\n",
       "    .dataframe thead th {\n",
       "        text-align: right;\n",
       "    }\n",
       "</style>\n",
       "<table border=\"1\" class=\"dataframe\">\n",
       "  <thead>\n",
       "    <tr style=\"text-align: right;\">\n",
       "      <th></th>\n",
       "      <th>Client</th>\n",
       "      <th>Count</th>\n",
       "    </tr>\n",
       "  </thead>\n",
       "  <tbody>\n",
       "    <tr>\n",
       "      <th>0</th>\n",
       "      <td>Vastu Finserve 4W CV FE Online Auction MP 23Jul24</td>\n",
       "      <td>1</td>\n",
       "    </tr>\n",
       "    <tr>\n",
       "      <th>1</th>\n",
       "      <td>ICICI BANK FE Online Auction South 23Jul24</td>\n",
       "      <td>7</td>\n",
       "    </tr>\n",
       "    <tr>\n",
       "      <th>2</th>\n",
       "      <td>ICICI BANK FE Online Auction West 23Jul24</td>\n",
       "      <td>21</td>\n",
       "    </tr>\n",
       "    <tr>\n",
       "      <th>3</th>\n",
       "      <td>ICICI BANK 4W Online Auction South 23Jul24</td>\n",
       "      <td>1</td>\n",
       "    </tr>\n",
       "    <tr>\n",
       "      <th>4</th>\n",
       "      <td>ICICI BANK 2W 4W Online Auction West 23Jul24</td>\n",
       "      <td>3</td>\n",
       "    </tr>\n",
       "    <tr>\n",
       "      <th>...</th>\n",
       "      <td>...</td>\n",
       "      <td>...</td>\n",
       "    </tr>\n",
       "    <tr>\n",
       "      <th>163</th>\n",
       "      <td>Aris Capital Pvt Ltd FE Online Auction JH 26Jul24</td>\n",
       "      <td>1</td>\n",
       "    </tr>\n",
       "    <tr>\n",
       "      <th>164</th>\n",
       "      <td>Pre Approved FE Online Auction RJ 26Jul24</td>\n",
       "      <td>92</td>\n",
       "    </tr>\n",
       "    <tr>\n",
       "      <th>165</th>\n",
       "      <td>Aris Capital Pvt Ltd 4W CV Online Auction GJ 2...</td>\n",
       "      <td>14</td>\n",
       "    </tr>\n",
       "    <tr>\n",
       "      <th>166</th>\n",
       "      <td>Aris Capital Pvt Ltd CV Online Auction WB 26Jul24</td>\n",
       "      <td>1</td>\n",
       "    </tr>\n",
       "    <tr>\n",
       "      <th>167</th>\n",
       "      <td>Testing</td>\n",
       "      <td>1</td>\n",
       "    </tr>\n",
       "  </tbody>\n",
       "</table>\n",
       "<p>168 rows × 2 columns</p>\n",
       "</div>"
      ],
      "text/plain": [
       "                                                Client  Count\n",
       "0    Vastu Finserve 4W CV FE Online Auction MP 23Jul24      1\n",
       "1           ICICI BANK FE Online Auction South 23Jul24      7\n",
       "2            ICICI BANK FE Online Auction West 23Jul24     21\n",
       "3           ICICI BANK 4W Online Auction South 23Jul24      1\n",
       "4         ICICI BANK 2W 4W Online Auction West 23Jul24      3\n",
       "..                                                 ...    ...\n",
       "163  Aris Capital Pvt Ltd FE Online Auction JH 26Jul24      1\n",
       "164          Pre Approved FE Online Auction RJ 26Jul24     92\n",
       "165  Aris Capital Pvt Ltd 4W CV Online Auction GJ 2...     14\n",
       "166  Aris Capital Pvt Ltd CV Online Auction WB 26Jul24      1\n",
       "167                                            Testing      1\n",
       "\n",
       "[168 rows x 2 columns]"
      ]
     },
     "execution_count": 12,
     "metadata": {},
     "output_type": "execute_result"
    }
   ],
   "source": [
    "df_final"
   ]
  },
  {
   "cell_type": "code",
   "execution_count": null,
   "id": "e2a93901-2efc-4a32-b773-7e4fad4cd3ff",
   "metadata": {},
   "outputs": [],
   "source": []
  },
  {
   "cell_type": "code",
   "execution_count": null,
   "id": "394e433d-2227-4026-9b8d-979b76c6acd9",
   "metadata": {},
   "outputs": [],
   "source": []
  },
  {
   "cell_type": "code",
   "execution_count": null,
   "id": "a9f8ce2d-0202-4db7-8926-d4893ff3a701",
   "metadata": {},
   "outputs": [],
   "source": []
  },
  {
   "cell_type": "code",
   "execution_count": null,
   "id": "49bbbe8b-9e4c-4efc-b585-ed567ef4cdf5",
   "metadata": {},
   "outputs": [],
   "source": []
  },
  {
   "cell_type": "code",
   "execution_count": null,
   "id": "adf37efc-cc34-40dd-877c-2ebc4d90d17c",
   "metadata": {},
   "outputs": [],
   "source": []
  }
 ],
 "metadata": {
  "kernelspec": {
   "display_name": "Python 3 (ipykernel)",
   "language": "python",
   "name": "python3"
  },
  "language_info": {
   "codemirror_mode": {
    "name": "ipython",
    "version": 3
   },
   "file_extension": ".py",
   "mimetype": "text/x-python",
   "name": "python",
   "nbconvert_exporter": "python",
   "pygments_lexer": "ipython3",
   "version": "3.8.2"
  }
 },
 "nbformat": 4,
 "nbformat_minor": 5
}
